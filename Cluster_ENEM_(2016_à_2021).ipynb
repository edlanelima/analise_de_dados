{
  "cells": [
    {
      "cell_type": "markdown",
      "source": [
        "# Análise do desempenho dos alunos em matemática, da rede pública de ensino, utilizando o método kmeans."
      ],
      "metadata": {
        "id": "T5jBs3brcnkC"
      }
    },
    {
      "cell_type": "markdown",
      "source": [
        "# Importando e tratatando - 2016"
      ],
      "metadata": {
        "id": "HsAEVjB_igws"
      }
    },
    {
      "cell_type": "code",
      "execution_count": null,
      "metadata": {
        "id": "QNEJbZigy9eq"
      },
      "outputs": [],
      "source": [
        "#Importação dos dados\n",
        "import pandas as pd\n",
        "import zipfile\n",
        "import numpy as np\n",
        "import matplotlib.pyplot as plt"
      ]
    },
    {
      "cell_type": "code",
      "execution_count": null,
      "metadata": {
        "id": "7rR0GP16zvDT"
      },
      "outputs": [],
      "source": [
        "#Acessa o arquivo zipado na pasta\n",
        "with zipfile.ZipFile('/content/drive/MyDrive/Colab Notebooks/testando/microdados_enem_2016.zip') as z:\n",
        "  print(*z.namelist(), sep=\"\\n\")"
      ]
    },
    {
      "cell_type": "code",
      "execution_count": null,
      "metadata": {
        "id": "l4F7fEYC2-OE"
      },
      "outputs": [],
      "source": [
        "#Acessa o arquivo zipado na pasta específica\n",
        "with zipfile.ZipFile('/content/drive/MyDrive/Colab Notebooks/testando/microdados_enem_2016.zip') as z:\n",
        "  with z.open('DADOS/microdados_enem_2016.csv') as f:\n",
        "    df16=pd.read_csv(f, sep=';', encoding = 'ISO-8859-1', nrows=0)"
      ]
    },
    {
      "cell_type": "code",
      "execution_count": null,
      "metadata": {
        "id": "aYPqbTYi3OOC"
      },
      "outputs": [],
      "source": [
        "#Verifica a quantidade de dados faltantes no dataframe\n",
        "df16.isna().sum().sort_values(ascending = True)"
      ]
    },
    {
      "cell_type": "code",
      "execution_count": null,
      "metadata": {
        "id": "HmTa0ppE3mea"
      },
      "outputs": [],
      "source": [
        "#Determina quais colunas serão tratadas\n",
        "colunaTeste = ['TP_ESCOLA','NU_NOTA_MT']"
      ]
    },
    {
      "cell_type": "code",
      "execution_count": null,
      "metadata": {
        "id": "UDyIE0Ei3wVS"
      },
      "outputs": [],
      "source": [
        "#Acessa os dados utilizando o filtro preestabelecido\n",
        "with zipfile.ZipFile('/content/drive/MyDrive/Colab Notebooks/testando/microdados_enem_2016.zip') as z:\n",
        "  with z.open('DADOS/microdados_enem_2016.csv') as f:\n",
        "    df16=pd.read_csv(f, sep=';', encoding = 'ISO-8859-1', usecols=colunaTeste)"
      ]
    },
    {
      "cell_type": "code",
      "execution_count": null,
      "metadata": {
        "id": "sV2IJ1zu76-I"
      },
      "outputs": [],
      "source": [
        "#Filtra a respectiva coluna somente para as escolas públicas\n",
        "df16.query('TP_ESCOLA == 2').count()"
      ]
    },
    {
      "cell_type": "code",
      "source": [
        "#Verifica a quantidade de dados faltantes no filtro preestabelecido\n",
        "df16.query('TP_ESCOLA == 2').isna().sum().sort_values(ascending = True)"
      ],
      "metadata": {
        "id": "GSSM6OdB0Noa"
      },
      "execution_count": null,
      "outputs": []
    },
    {
      "cell_type": "code",
      "source": [
        "#Exclui os dados faltantes conforme filtros preestabelecidos\n",
        "amostra16 = df16.query('TP_ESCOLA == 2').dropna()"
      ],
      "metadata": {
        "id": "fqrzqZkjxsdo"
      },
      "execution_count": null,
      "outputs": []
    },
    {
      "cell_type": "code",
      "source": [
        "#Estatística descritiva dos dados\n",
        "amostra16.describe().round(2)"
      ],
      "metadata": {
        "id": "foOP-t4N2k9p"
      },
      "execution_count": null,
      "outputs": []
    },
    {
      "cell_type": "code",
      "source": [
        "#Cálculo do coeficiente de variação, para verificar outliers\n",
        "print(\"Coeficiente de variação:\\n\", np.std(amostra16)/np.mean(amostra16))"
      ],
      "metadata": {
        "id": "wgCUu5MK0FK2"
      },
      "execution_count": null,
      "outputs": []
    },
    {
      "cell_type": "code",
      "source": [
        "#Plotagem do gráfico histograma da coluna \"suspeita\" de outliers\n",
        "plt.hist(amostra16.NU_NOTA_REDACAO, 10, rwidth=0.9)\n",
        "plt.show()"
      ],
      "metadata": {
        "id": "rnn1kQso2Wz4"
      },
      "execution_count": null,
      "outputs": []
    },
    {
      "cell_type": "code",
      "source": [
        "#Importação das bibliotecas para utilzação do boxplot\n",
        "import seaborn as sns\n",
        "import matplotlib.pyplot as plt\n"
      ],
      "metadata": {
        "id": "Tmy7V4TABhpu"
      },
      "execution_count": null,
      "outputs": []
    },
    {
      "cell_type": "code",
      "source": [
        "# Correlação de Pearson para justificar a redução da pontuaçaõ em Redação\n",
        "import numpy as np\n",
        "\n",
        "redacao = np.array(amostra16.NU_NOTA_REDACAO)\n",
        "cienciasHumanas = np.array(amostra16.NU_NOTA_CH)\n",
        "cienciasNaturais = np.array(amostra16.NU_NOTA_CN)\n",
        "linguagem = np.array(amostra16.NU_NOTA_LC)\n",
        "matematica = np.array(amostra16.NU_NOTA_MT)\n",
        "\n",
        "notas_todas_areas = np.array([redacao, cienciasHumanas, cienciasNaturais, linguagem,matematica ])\n",
        "\n",
        "correlacao = np.corrcoef(notas_todas_areas)[:1]\n",
        "print(correlacao)"
      ],
      "metadata": {
        "id": "E8Vlcu_E6ezX"
      },
      "execution_count": null,
      "outputs": []
    },
    {
      "cell_type": "code",
      "source": [
        "# MATEMATICA X REDAÇÃO\n",
        "import numpy as np\n",
        "\n",
        "redacao = np.array(amostra16.NU_NOTA_REDACAO)\n",
        "matematica = np.array(amostra16.NU_NOTA_MT)\n",
        "\n",
        "# Verificando a correlação entre as notas de redação e ciências humanas\n",
        "correlacao_redacao_ch = np.corrcoef(redacao, matematica)[0, 1]\n",
        "\n",
        "print(\"Correlação entre notas de redação e ciências humanas:\", correlacao_redacao_ch)"
      ],
      "metadata": {
        "id": "_h_s7oR1_2Un"
      },
      "execution_count": null,
      "outputs": []
    },
    {
      "cell_type": "markdown",
      "source": [
        "\n",
        "\n",
        "# Importando e tratatando - 2017\n",
        "\n",
        "\n"
      ],
      "metadata": {
        "id": "6sCnF5lRiujF"
      }
    },
    {
      "cell_type": "code",
      "execution_count": null,
      "metadata": {
        "id": "1wAesPKfi3Lu"
      },
      "outputs": [],
      "source": [
        "#Importação dos dados\n",
        "import pandas as pd\n",
        "import zipfile\n",
        "import numpy as np\n",
        "import matplotlib.pyplot as plt"
      ]
    },
    {
      "cell_type": "code",
      "execution_count": null,
      "metadata": {
        "id": "bgR0Nte8i3Lw"
      },
      "outputs": [],
      "source": [
        "#Acessa o arquivo zipado na pasta\n",
        "with zipfile.ZipFile('/content/drive/MyDrive/Colab Notebooks/testando/microdados_enem_2017.zip') as z:\n",
        "  print(*z.namelist(), sep=\"\\n\")"
      ]
    },
    {
      "cell_type": "code",
      "execution_count": null,
      "metadata": {
        "id": "4l8NlBM-i3Lx"
      },
      "outputs": [],
      "source": [
        "#Acessa o arquivo zipado na pasta específica\n",
        "with zipfile.ZipFile('/content/drive/MyDrive/Colab Notebooks/testando/microdados_enem_2017.zip') as z:\n",
        "  with z.open('DADOS/MICRODADOS_ENEM_2017.csv') as f:\n",
        "    df17=pd.read_csv(f, sep=';', encoding = 'ISO-8859-1', nrows = 0)"
      ]
    },
    {
      "cell_type": "code",
      "execution_count": null,
      "metadata": {
        "id": "IS1CYwoQi3Lz"
      },
      "outputs": [],
      "source": [
        "#Determina quais colunas serão tratadas\n",
        "colunaTeste = ['TP_ESCOLA','NU_NOTA_MT']"
      ]
    },
    {
      "cell_type": "code",
      "execution_count": null,
      "metadata": {
        "id": "yABnDcgNi3L0"
      },
      "outputs": [],
      "source": [
        "#Acessa os dados utilizando o filtro preestabelecido\n",
        "with zipfile.ZipFile('/content/drive/MyDrive/Colab Notebooks/testando/microdados_enem_2017.zip') as z:\n",
        "  with z.open('DADOS/MICRODADOS_ENEM_2017.csv') as f:\n",
        "    df17=pd.read_csv(f, sep=';', encoding = 'ISO-8859-1', usecols=colunaTeste)"
      ]
    },
    {
      "cell_type": "code",
      "source": [
        "df17.count()"
      ],
      "metadata": {
        "id": "_bmrGKSfMIz6"
      },
      "execution_count": null,
      "outputs": []
    },
    {
      "cell_type": "code",
      "execution_count": null,
      "metadata": {
        "id": "KZz86Vkyi3L0"
      },
      "outputs": [],
      "source": [
        "#Filtra a respectiva coluna somente para as escolas públicas\n",
        "df17.query('TP_ESCOLA == 2').count()"
      ]
    },
    {
      "cell_type": "code",
      "source": [
        "#Verifica a quantidade de dados faltantes no filtro preestabelecido\n",
        "df17.query('TP_ESCOLA == 2').isna().sum().sort_values(ascending = True)"
      ],
      "metadata": {
        "id": "TF19hggWi3L1"
      },
      "execution_count": null,
      "outputs": []
    },
    {
      "cell_type": "code",
      "source": [
        "#Exclui os dados faltantes conforme filtros preestabelecidos\n",
        "amostra17 = df17.query('TP_ESCOLA == 2').dropna()"
      ],
      "metadata": {
        "id": "vu4qppxDi3L2"
      },
      "execution_count": null,
      "outputs": []
    },
    {
      "cell_type": "code",
      "source": [
        "#Contagem\n",
        "amostra17.count()"
      ],
      "metadata": {
        "id": "YED36TZhi3L3"
      },
      "execution_count": null,
      "outputs": []
    },
    {
      "cell_type": "code",
      "source": [
        "#Estatística descritiva dos dados\n",
        "amostra17.describe().round(2)"
      ],
      "metadata": {
        "id": "hyLvLte4i3L3"
      },
      "execution_count": null,
      "outputs": []
    },
    {
      "cell_type": "markdown",
      "source": [
        "# Importando e tratatando - 2018"
      ],
      "metadata": {
        "id": "qelXQb8qlmSs"
      }
    },
    {
      "cell_type": "code",
      "execution_count": null,
      "metadata": {
        "id": "GHzgc9xFltFV"
      },
      "outputs": [],
      "source": [
        "#Acessa o arquivo zipado na pasta\n",
        "with zipfile.ZipFile('/content/drive/MyDrive/Colab Notebooks/testando/microdados_enem_2018.zip') as z:\n",
        "  print(*z.namelist(), sep=\"\\n\")"
      ]
    },
    {
      "cell_type": "code",
      "execution_count": null,
      "metadata": {
        "id": "k7jY8U0zltFW"
      },
      "outputs": [],
      "source": [
        "#Acessa o arquivo zipado na pasta específica\n",
        "with zipfile.ZipFile('/content/drive/MyDrive/Colab Notebooks/testando/microdados_enem_2018.zip') as z:\n",
        "  with z.open('DADOS/MICRODADOS_ENEM_2018.csv') as f:\n",
        "    df18=pd.read_csv(f, sep=';', encoding = 'ISO-8859-1', nrows=0)"
      ]
    },
    {
      "cell_type": "code",
      "source": [
        "df18.count()"
      ],
      "metadata": {
        "id": "_Dfiz94gJEWk"
      },
      "execution_count": null,
      "outputs": []
    },
    {
      "cell_type": "code",
      "execution_count": null,
      "metadata": {
        "id": "p8r2UvYLltFW"
      },
      "outputs": [],
      "source": [
        "#Verifica a quantidade de dados faltantes no dataframe\n",
        "df18.isna().sum().sort_values(ascending = True)"
      ]
    },
    {
      "cell_type": "code",
      "execution_count": null,
      "metadata": {
        "id": "QFBd_a3rltFX"
      },
      "outputs": [],
      "source": [
        "#Determina quais colunas serão tratadas\n",
        "#colunaTeste = ['TP_ESCOLA', 'NU_NOTA_MT']"
      ]
    },
    {
      "cell_type": "code",
      "execution_count": null,
      "metadata": {
        "id": "LQdgYeMFltFX"
      },
      "outputs": [],
      "source": [
        "#Acessa os dados utilizando o filtro preestabelecido\n",
        "with zipfile.ZipFile('/content/drive/MyDrive/Colab Notebooks/testando/microdados_enem_2018.zip') as z:\n",
        "  with z.open('DADOS/MICRODADOS_ENEM_2018.csv') as f:\n",
        "    df18=pd.read_csv(f, sep=';', encoding = 'ISO-8859-1', usecols=colunaTeste)"
      ]
    },
    {
      "cell_type": "code",
      "execution_count": null,
      "metadata": {
        "id": "U3QMxoceltFY"
      },
      "outputs": [],
      "source": [
        "#Filtra a respectiva coluna somente para as escolas públicas\n",
        "df18.query('TP_ESCOLA == 2').count()"
      ]
    },
    {
      "cell_type": "code",
      "source": [
        "#Verifica a quantidade de dados faltantes no filtro preestabelecido\n",
        "df18.query('TP_ESCOLA == 2').isna().sum().sort_values(ascending = True)"
      ],
      "metadata": {
        "id": "InDD_63vltFY"
      },
      "execution_count": null,
      "outputs": []
    },
    {
      "cell_type": "code",
      "source": [
        "#Exclui os dados faltantes conforme filtros preestabelecidos\n",
        "amostra18 = df18.query('TP_ESCOLA == 2').dropna()"
      ],
      "metadata": {
        "id": "KoVr7oOvltFY"
      },
      "execution_count": null,
      "outputs": []
    },
    {
      "cell_type": "code",
      "source": [
        "#Contagem\n",
        "amostra18.count()"
      ],
      "metadata": {
        "id": "saCn-q23ltFZ"
      },
      "execution_count": null,
      "outputs": []
    },
    {
      "cell_type": "code",
      "source": [
        "# Correlação de Pearson\n",
        "import numpy as np\n",
        "\n",
        "redacao = np.array(amostra18.NU_NOTA_REDACAO)\n",
        "cienciasHumanas = np.array(amostra18.NU_NOTA_CH)\n",
        "cienciasNaturais = np.array(amostra18.NU_NOTA_CN)\n",
        "linguagem = np.array(amostra18.NU_NOTA_LC)\n",
        "matematica = np.array(amostra18.NU_NOTA_MT)\n",
        "\n",
        "notas_todas_areas = np.array([redacao, cienciasHumanas, cienciasNaturais, linguagem,matematica ])\n",
        "\n",
        "correlacao = np.corrcoef(notas_todas_areas)[:1]\n",
        "print(correlacao)\n",
        "#        Redação,  CH, CN, LINGUAGEM, MATEMATICA"
      ],
      "metadata": {
        "id": "LgIp8Jm8BKXz"
      },
      "execution_count": null,
      "outputs": []
    },
    {
      "cell_type": "code",
      "source": [
        "# Gráfico de dispersão\n",
        "\n",
        "import numpy as np\n",
        "import matplotlib.pyplot as plt\n",
        "import seaborn as sns\n",
        "\n",
        "# Dados de exemplo das notas\n",
        "redacao = np.array([80, 70, 90, 65, 85])\n",
        "cienciasHumanas = np.array([75, 60, 80, 70, 85])\n",
        "cienciasNaturais = np.array([70, 75, 85, 80, 90])\n",
        "linguagem = np.array([80, 75, 85, 70, 90])\n",
        "matematica = np.array([75, 80, 90, 85, 95])\n",
        "\n",
        "# Gráfico de dispersão\n",
        "plt.scatter(redacao, cienciasHumanas)\n",
        "plt.xlabel('Redação')\n",
        "plt.ylabel('Ciências Humanas')\n",
        "plt.title('Gráfico de Dispersão: Redação x Ciências Humanas')\n",
        "plt.show()\n",
        "\n",
        "# Gráfico de linha de regressão\n",
        "data = {'Redação': redacao, 'Ciências Humanas': cienciasHumanas}\n",
        "df = pd.DataFrame(data)\n",
        "sns.lmplot(x='Redação', y='Ciências Humanas', data=df)\n",
        "plt.xlabel('Redação')\n",
        "plt.ylabel('Ciências Humanas')\n",
        "plt.title('Gráfico de Linha de Regressão: Redação x Ciências Humanas')\n",
        "plt.show()\n"
      ],
      "metadata": {
        "id": "ipgQ4mF2IHTP"
      },
      "execution_count": null,
      "outputs": []
    },
    {
      "cell_type": "code",
      "source": [
        "#Estatística descritiva dos dados\n",
        "amostra18.describe().round(2)"
      ],
      "metadata": {
        "id": "lQuwHRmHltFZ"
      },
      "execution_count": null,
      "outputs": []
    },
    {
      "cell_type": "markdown",
      "source": [
        "# Importando e tratatando - 2019"
      ],
      "metadata": {
        "id": "D8j8-WqfDnts"
      }
    },
    {
      "cell_type": "code",
      "execution_count": null,
      "metadata": {
        "id": "bO3JJNV7Dntu"
      },
      "outputs": [],
      "source": [
        "#Acessa o arquivo zipado na pasta\n",
        "with zipfile.ZipFile('/content/drive/MyDrive/Colab Notebooks/testando/microdados_enem_2019.zip') as z:\n",
        "  print(*z.namelist(), sep=\"\\n\")"
      ]
    },
    {
      "cell_type": "code",
      "execution_count": null,
      "metadata": {
        "id": "p5WrqpKNDntu"
      },
      "outputs": [],
      "source": [
        "#Acessa o arquivo zipado na pasta específica\n",
        "with zipfile.ZipFile('/content/drive/MyDrive/Colab Notebooks/testando/microdados_enem_2019.zip') as z:\n",
        "  with z.open('DADOS/MICRODADOS_ENEM_2019.csv') as f:\n",
        "    df19=pd.read_csv(f, sep=';', encoding = 'ISO-8859-1', nrows=0)"
      ]
    },
    {
      "cell_type": "code",
      "execution_count": null,
      "metadata": {
        "id": "S3nBSKTWDntv"
      },
      "outputs": [],
      "source": [
        "  #Verifica a quantidade de dados faltantes no dataframe\n",
        "df19.isna().sum().sort_values(ascending = True)"
      ]
    },
    {
      "cell_type": "code",
      "execution_count": null,
      "metadata": {
        "id": "CGpjpQbxDntv"
      },
      "outputs": [],
      "source": [
        "#Determina quais colunas serão tratadas\n",
        "colunaTeste = ['TP_ESCOLA', 'NU_NOTA_MT']"
      ]
    },
    {
      "cell_type": "code",
      "execution_count": null,
      "metadata": {
        "id": "lrfaYEp8Dntw"
      },
      "outputs": [],
      "source": [
        "#Acessa os dados utilizando o filtro preestabelecido\n",
        "with zipfile.ZipFile('/content/drive/MyDrive/Colab Notebooks/testando/microdados_enem_2019.zip') as z:\n",
        "  with z.open('DADOS/MICRODADOS_ENEM_2019.csv') as f:\n",
        "    df19=pd.read_csv(f, sep=';', encoding = 'ISO-8859-1', usecols=colunaTeste)"
      ]
    },
    {
      "cell_type": "code",
      "execution_count": null,
      "metadata": {
        "id": "3t6gFoYFDntw",
        "colab": {
          "base_uri": "https://localhost:8080/"
        },
        "outputId": "f259e221-0f9a-49f3-b4fc-c4d10b344165"
      },
      "outputs": [
        {
          "output_type": "execute_result",
          "data": {
            "text/plain": [
              "TP_ESCOLA     1247234\n",
              "NU_NOTA_MT    1011711\n",
              "dtype: int64"
            ]
          },
          "metadata": {},
          "execution_count": 44
        }
      ],
      "source": [
        "#Filtra a respectiva coluna somente para as escolas públicas\n",
        "df19.query('TP_ESCOLA == 2').count()"
      ]
    },
    {
      "cell_type": "code",
      "source": [
        "#Verifica a quantidade de dados faltantes no filtro preestabelecido\n",
        "df19.query('TP_ESCOLA == 2').isna().sum().sort_values(ascending = True)"
      ],
      "metadata": {
        "id": "xiae5K9VDntx"
      },
      "execution_count": null,
      "outputs": []
    },
    {
      "cell_type": "code",
      "source": [
        "#Exclui os dados faltantes conforme filtros preestabelecidos\n",
        "amostra19 = df19.query('TP_ESCOLA == 2').dropna()"
      ],
      "metadata": {
        "id": "5FLY3xaVDntx"
      },
      "execution_count": null,
      "outputs": []
    },
    {
      "cell_type": "code",
      "source": [
        "#Contagem\n",
        "amostra19.count()"
      ],
      "metadata": {
        "id": "X7n1Zl6HDntx"
      },
      "execution_count": null,
      "outputs": []
    },
    {
      "cell_type": "code",
      "source": [
        "#Estatística descritiva dos dados\n",
        "amostra19.describe().round(2)\n"
      ],
      "metadata": {
        "id": "aIJKOPD5Dnty"
      },
      "execution_count": null,
      "outputs": []
    },
    {
      "cell_type": "markdown",
      "source": [
        "# Importando e tratatando - 2020\n"
      ],
      "metadata": {
        "id": "JvIUz7zjdB78"
      }
    },
    {
      "cell_type": "code",
      "execution_count": null,
      "metadata": {
        "id": "aAb6HATsdB78"
      },
      "outputs": [],
      "source": [
        "#Acessa o arquivo zipado na pasta\n",
        "with zipfile.ZipFile('/content/drive/MyDrive/Colab Notebooks/testando/microdados_enem_2020.zip') as z:\n",
        "  print(*z.namelist(), sep=\"\\n\")"
      ]
    },
    {
      "cell_type": "code",
      "execution_count": null,
      "metadata": {
        "id": "Wn2RmjkjdB79"
      },
      "outputs": [],
      "source": [
        "#Acessa o arquivo zipado na pasta específica\n",
        "with zipfile.ZipFile('/content/drive/MyDrive/Colab Notebooks/testando/microdados_enem_2020.zip') as z:\n",
        "  with z.open('DADOS/MICRODADOS_ENEM_2020.csv') as f:\n",
        "    df20=pd.read_csv(f, sep=';', encoding = 'ISO-8859-1', nrows=0)"
      ]
    },
    {
      "cell_type": "code",
      "execution_count": null,
      "metadata": {
        "id": "wLykkl_AdB79"
      },
      "outputs": [],
      "source": [
        "  #Verifica a quantidade de dados faltantes no dataframe\n",
        "df20.isna().sum().sort_values(ascending = True)"
      ]
    },
    {
      "cell_type": "code",
      "execution_count": null,
      "metadata": {
        "id": "4tMTLlLRdB7-"
      },
      "outputs": [],
      "source": [
        "#Determina quais colunas serão tratadas\n",
        "colunaTeste = ['TP_ESCOLA','NU_NOTA_MT']"
      ]
    },
    {
      "cell_type": "code",
      "execution_count": null,
      "metadata": {
        "id": "B-ek7XLOdB7-"
      },
      "outputs": [],
      "source": [
        "#Acessa os dados utilizando o filtro preestabelecido\n",
        "with zipfile.ZipFile('/content/drive/MyDrive/Colab Notebooks/testando/microdados_enem_2020.zip') as z:\n",
        "  with z.open('DADOS/MICRODADOS_ENEM_2020.csv') as f:\n",
        "    df20=pd.read_csv(f, sep=';', encoding = 'ISO-8859-1', usecols=colunaTeste)"
      ]
    },
    {
      "cell_type": "code",
      "execution_count": null,
      "metadata": {
        "id": "YlJ7KruidB7-"
      },
      "outputs": [],
      "source": [
        "#Filtra a respectiva coluna somente para as escolas públicas\n",
        "df20.query('TP_ESCOLA == 2').count()"
      ]
    },
    {
      "cell_type": "code",
      "source": [
        "#Verifica a quantidade de dados faltantes no filtro preestabelecido\n",
        "df20.query('TP_ESCOLA == 2').isna().sum().sort_values(ascending = True)"
      ],
      "metadata": {
        "id": "AKNVdgb0dB7_"
      },
      "execution_count": null,
      "outputs": []
    },
    {
      "cell_type": "code",
      "source": [
        "#Exclui os dados faltantes conforme filtros preestabelecidos\n",
        "amostra20 = df20.query('TP_ESCOLA == 2').dropna()\n",
        "amostra20.dropna()\n",
        "#amostra20.isna().sum().sort_values(ascending = True)"
      ],
      "metadata": {
        "id": "NjUtZJDKdB7_"
      },
      "execution_count": null,
      "outputs": []
    },
    {
      "cell_type": "code",
      "source": [
        "#Contagem\n",
        "amostra20.count()"
      ],
      "metadata": {
        "id": "6d5sURnidB7_"
      },
      "execution_count": null,
      "outputs": []
    },
    {
      "cell_type": "code",
      "source": [
        "#Estatística descritiva dos dados\n",
        "amostra20.describe().round(2)\n",
        "amostra20.median()"
      ],
      "metadata": {
        "id": "3tW9znpndB8A"
      },
      "execution_count": null,
      "outputs": []
    },
    {
      "cell_type": "markdown",
      "source": [
        "# Importando e tratatando - 2021\n"
      ],
      "metadata": {
        "id": "GKMEq1RbdJ95"
      }
    },
    {
      "cell_type": "code",
      "execution_count": null,
      "metadata": {
        "id": "lI9g0APDdJ96"
      },
      "outputs": [],
      "source": [
        "#Acessa o arquivo zipado na pasta\n",
        "with zipfile.ZipFile('/content/drive/MyDrive/Colab Notebooks/testando/microdados_enem_2021.zip') as z:\n",
        "  print(*z.namelist(), sep=\"\\n\")"
      ]
    },
    {
      "cell_type": "code",
      "execution_count": null,
      "metadata": {
        "id": "RJNNLJSMdJ96"
      },
      "outputs": [],
      "source": [
        "#Acessa o arquivo zipado na pasta específica\n",
        "with zipfile.ZipFile('/content/drive/MyDrive/Colab Notebooks/testando/microdados_enem_2021.zip') as z:\n",
        "  with z.open('DADOS/MICRODADOS_ENEM_2021.csv') as f:\n",
        "    df21=pd.read_csv(f, sep=';', encoding = 'ISO-8859-1', nrows=0)"
      ]
    },
    {
      "cell_type": "code",
      "execution_count": null,
      "metadata": {
        "id": "KQub_UsAdJ97"
      },
      "outputs": [],
      "source": [
        "  #Verifica a quantidade de dados faltantes no dataframe\n",
        "df19.isna().sum().sort_values(ascending = True)"
      ]
    },
    {
      "cell_type": "code",
      "execution_count": null,
      "metadata": {
        "id": "YMNnmI3qdJ97"
      },
      "outputs": [],
      "source": [
        "#Determina quais colunas serão tratadas\n",
        "colunaTeste = ['TP_ESCOLA','NU_NOTA_MT']"
      ]
    },
    {
      "cell_type": "code",
      "execution_count": null,
      "metadata": {
        "id": "JVJr77mkdJ98"
      },
      "outputs": [],
      "source": [
        "#Acessa os dados utilizando o filtro preestabelecido\n",
        "with zipfile.ZipFile('/content/drive/MyDrive/Colab Notebooks/testando/microdados_enem_2021.zip') as z:\n",
        "  with z.open('DADOS/MICRODADOS_ENEM_2021.csv') as f:\n",
        "    df21=pd.read_csv(f, sep=';', encoding = 'ISO-8859-1', usecols=colunaTeste)"
      ]
    },
    {
      "cell_type": "code",
      "execution_count": null,
      "metadata": {
        "id": "VLY93u2idJ98"
      },
      "outputs": [],
      "source": [
        "#Filtra a respectiva coluna somente para as escolas públicas\n",
        "df21.query('TP_ESCOLA == 2').count()"
      ]
    },
    {
      "cell_type": "code",
      "source": [
        "#Verifica a quantidade de dados faltantes no filtro preestabelecido\n",
        "df21.query('TP_ESCOLA == 2').isna().sum().sort_values(ascending = True)"
      ],
      "metadata": {
        "id": "BOvNY_OtdJ98"
      },
      "execution_count": null,
      "outputs": []
    },
    {
      "cell_type": "code",
      "source": [
        "#Exclui os dados faltantes conforme filtros preestabelecidos\n",
        "amostra21 = df21.query('TP_ESCOLA == 2').dropna()\n",
        "amostra21.dropna()"
      ],
      "metadata": {
        "id": "8ij0hqWkdJ99"
      },
      "execution_count": null,
      "outputs": []
    },
    {
      "cell_type": "code",
      "source": [
        "#Contagem\n",
        "amostra21.count()"
      ],
      "metadata": {
        "id": "KDTXHCkbdJ99"
      },
      "execution_count": null,
      "outputs": []
    },
    {
      "cell_type": "code",
      "source": [
        "#Estatística descritiva dos dados\n",
        "amostra21.describe().round(2)\n"
      ],
      "metadata": {
        "id": "Vnod7WHtdJ99"
      },
      "execution_count": null,
      "outputs": []
    },
    {
      "cell_type": "code",
      "source": [
        "#Estatística descritiva dos dados\n",
        "amostra21.describe().round(2)\n",
        "amostra21.median()"
      ],
      "metadata": {
        "id": "KILvAD0spqeH"
      },
      "execution_count": null,
      "outputs": []
    },
    {
      "cell_type": "code",
      "source": [
        "amostra16.dropna()\n",
        "amostra17.dropna()\n",
        "amostra18.dropna()\n",
        "amostra19.dropna()\n"
      ],
      "metadata": {
        "id": "RmEWzP6owq2l"
      },
      "execution_count": null,
      "outputs": []
    },
    {
      "cell_type": "markdown",
      "source": [
        "# Quantidade de cluster\n"
      ],
      "metadata": {
        "id": "Yra78UTOiPzB"
      }
    },
    {
      "cell_type": "code",
      "source": [
        "# Cria a Curva de Cotovelo para encontrar o Numero Ideal de Clusters\n",
        "from sklearn.cluster import KMeans\n",
        "wcss = []"
      ],
      "metadata": {
        "id": "tHslEY6INDeq"
      },
      "execution_count": null,
      "outputs": []
    },
    {
      "cell_type": "code",
      "source": [
        "wcss = []\n",
        "for i in range(1, 11):\n",
        "    kmeans = KMeans(n_clusters = i, max_iter = 300, n_init = 10, random_state = 0)\n",
        "    kmeans.fit(amostra19)\n",
        "    wcss.append(kmeans.inertia_)\n",
        "    # Mostra o Gráfico\n",
        "plt.plot(range(1, 11), wcss)\n",
        "plt.title('Curva de Cotovelo')\n",
        "plt.xlabel('Numero de Clusters')\n",
        "plt.ylabel('WCSS')\n",
        "plt.show()\n"
      ],
      "metadata": {
        "id": "pBSz_3TeJveB"
      },
      "execution_count": null,
      "outputs": []
    },
    {
      "cell_type": "code",
      "source": [
        "# Mostra o Gráfico\n",
        "plt.plot(range(1, 11), wcss)\n",
        "plt.title('Curva de Cotovelo')\n",
        "plt.xlabel('Numero de Clusters')\n",
        "plt.ylabel('WCSS') #within cluster sum of squares\n",
        "plt.show()"
      ],
      "metadata": {
        "id": "9i2bI-uMKsGt"
      },
      "execution_count": null,
      "outputs": []
    },
    {
      "cell_type": "markdown",
      "source": [
        "# Cluster por ano\n"
      ],
      "metadata": {
        "id": "-Sg4RH1OLBoL"
      }
    },
    {
      "cell_type": "markdown",
      "source": [
        "## CLUSTER 2016"
      ],
      "metadata": {
        "id": "FZ-0Wz6UI1LK"
      }
    },
    {
      "cell_type": "code",
      "source": [
        "from sklearn.cluster import KMeans\n",
        "\n",
        "n_clusters = 3\n",
        "\n",
        "means_cluster = KMeans(n_clusters=n_clusters, random_state=111)\n",
        "columns = [ \"NU_NOTA_MT\", ]\n",
        "est = means_cluster.fit(amostra16[columns])\n",
        "clusters = est.labels_\n",
        "amostra16['cluster'] = clusters\n",
        "\n",
        "for c in range(n_clusters):\n",
        "    cluster_members=amostra16[amostra16['cluster'] == c][:]\n",
        "    print('Cluster{}(n={}):'.format(c, len(cluster_members)))\n",
        "    print('-'* 17)\n",
        "print(amostra16.groupby(['cluster']).mean())"
      ],
      "metadata": {
        "id": "dIZVOakjAQTh"
      },
      "execution_count": null,
      "outputs": []
    },
    {
      "cell_type": "code",
      "source": [
        "amostra16  = amostra16.rename(columns={'NU_NOTA_MT': 'MATEMATICA'})\n",
        "\n",
        "\n",
        "for c in range(n_clusters):\n",
        "    cluster_members=amostra16[amostra16['cluster'] == c][:]\n",
        "    print('Cluster{}(n={}):'.format(c, len(cluster_members)))\n",
        "    print('-'* 17)\n",
        "cluster16 = amostra16.groupby(['cluster']).mean().plot.bar()\n",
        "cluster16.legend(bbox_to_anchor=(1.4, 0.9))"
      ],
      "metadata": {
        "id": "xi2jjx-fCO4F"
      },
      "execution_count": null,
      "outputs": []
    },
    {
      "cell_type": "code",
      "source": [
        "cluster16 = amostra16.groupby(['cluster']).mean().plot.bar()\n",
        "cluster17 = amostra16.groupby(['cluster']).mean().plot.bar()\n",
        "cluster18 = amostra16.groupby(['cluster']).mean().plot.bar()\n",
        "cluster19 = amostra16.groupby(['cluster']).mean().plot.bar()"
      ],
      "metadata": {
        "id": "sgNeH9u2mGE1"
      },
      "execution_count": null,
      "outputs": []
    },
    {
      "cell_type": "markdown",
      "source": [
        "## CLUSTER 2017"
      ],
      "metadata": {
        "id": "IQQvpgxGI-9R"
      }
    },
    {
      "cell_type": "code",
      "source": [
        "from sklearn.cluster import KMeans\n",
        "n_clusters = 3\n",
        "\n",
        "means_cluster = KMeans(n_clusters=n_clusters, random_state=111)\n",
        "columns = [\"NU_NOTA_MT\"]\n",
        "est = means_cluster.fit(amostra17[columns])\n",
        "clusters = est.labels_\n",
        "amostra17['cluster'] = clusters\n",
        "\n",
        "for c in range(n_clusters):\n",
        "    cluster_members=amostra17[amostra17['cluster'] == c][:]\n",
        "    print('Cluster{}(n={}):'.format(c, len(cluster_members)))\n",
        "    print('-'* 17)\n",
        "print(amostra17.groupby(['cluster']).mean())"
      ],
      "metadata": {
        "id": "kAflSFSQJCrN"
      },
      "execution_count": null,
      "outputs": []
    },
    {
      "cell_type": "code",
      "source": [
        "\n",
        "amostra17  = amostra17.rename(columns={'NU_NOTA_MT': 'MATEMATICA'})\n",
        "\n",
        "\n",
        "\n",
        "for c in range(n_clusters):\n",
        "    cluster_members=amostra17[amostra17['cluster'] == c][:]\n",
        "    print('Cluster{}(n={}):'.format(c, len(cluster_members)))\n",
        "    print('-'* 17)\n",
        "cluster17 = amostra17.groupby(['cluster']).mean().plot.bar()\n",
        "cluster17.legend(bbox_to_anchor=(1.4, 0.9))"
      ],
      "metadata": {
        "id": "ygyh1pojJCrP"
      },
      "execution_count": null,
      "outputs": []
    },
    {
      "cell_type": "markdown",
      "source": [
        "## CLUSTER 2018"
      ],
      "metadata": {
        "id": "XFMGI3DCJtqE"
      }
    },
    {
      "cell_type": "code",
      "source": [
        "from sklearn.cluster import KMeans\n",
        "\n",
        "n_clusters = 3\n",
        "\n",
        "means_cluster = KMeans(n_clusters=n_clusters, random_state=111)\n",
        "columns = [ \"NU_NOTA_MT\"]\n",
        "est = means_cluster.fit(amostra18[columns])\n",
        "clusters = est.labels_\n",
        "amostra18['cluster'] = clusters\n",
        "\n",
        "for c in range(n_clusters):\n",
        "    cluster_members=amostra18[amostra18['cluster'] == c][:]\n",
        "    print('Cluster{}(n={}):'.format(c, len(cluster_members)))\n",
        "    print('-'* 17)\n",
        "print(amostra18.groupby(['cluster']).mean())"
      ],
      "metadata": {
        "id": "70FCRGtCJ0wi"
      },
      "execution_count": null,
      "outputs": []
    },
    {
      "cell_type": "code",
      "source": [
        "\n",
        "amostra18  = amostra18.rename(columns={'NU_NOTA_MT': 'MATEMATICA'})\n",
        "\n",
        "\n",
        "for c in range(n_clusters):\n",
        "    cluster_members=amostra18[amostra18['cluster'] == c][:]\n",
        "    print('Cluster{}(n={}):'.format(c, len(cluster_members)))\n",
        "    print('-'* 17)\n",
        "cluster18 = amostra18.groupby(['cluster']).mean().plot.bar()\n",
        "cluster18.legend(bbox_to_anchor=(1.4, 0.9))"
      ],
      "metadata": {
        "id": "V7hi9m_oJ0wj"
      },
      "execution_count": null,
      "outputs": []
    },
    {
      "cell_type": "markdown",
      "source": [
        "## CLUSTER 2019"
      ],
      "metadata": {
        "id": "LZ_J8bD0KIJq"
      }
    },
    {
      "cell_type": "code",
      "source": [
        "from sklearn.cluster import KMeans\n",
        "\n",
        "n_clusters = 3\n",
        "\n",
        "means_cluster = KMeans(n_clusters=n_clusters, random_state=111)\n",
        "columns = [ \"NU_NOTA_MT\"]\n",
        "est = means_cluster.fit(amostra19[columns])\n",
        "clusters = est.labels_\n",
        "amostra19['cluster'] = clusters\n",
        "for c in range(n_clusters):\n",
        "    cluster_members=amostra19[amostra19['cluster'] == c][:]\n",
        "    print('Cluster{}(n={}):'.format(c, len(cluster_members)))\n",
        "    print('-'* 17)\n",
        "print(amostra19.groupby(['cluster']).mean())"
      ],
      "metadata": {
        "id": "PTglSxwIKXCh"
      },
      "execution_count": null,
      "outputs": []
    },
    {
      "cell_type": "code",
      "source": [
        "\n",
        "amostra19  = amostra19.rename(columns={'NU_NOTA_MT': 'MATEMATICA'})\n",
        "\n",
        "\n",
        "for c in range(n_clusters):\n",
        "    cluster_members=amostra19[amostra19['cluster'] == c][:]\n",
        "    print('Cluster{}(n={}):'.format(c, len(cluster_members)))\n",
        "    print('-'* 17)\n",
        "cluster19 = amostra19.groupby(['cluster']).mean().plot.bar()\n",
        "cluster19.legend(bbox_to_anchor=(1.4, 0.9))"
      ],
      "metadata": {
        "id": "3mxq4BDMKXCi"
      },
      "execution_count": null,
      "outputs": []
    },
    {
      "cell_type": "code",
      "source": [
        "# Criação de array para cálculo da média em cada ano por área\n",
        "ARRAY = [\n",
        "amostra19.NU_NOTA_CN.median(),\n",
        "amostra19.NU_NOTA_CH.median(),\n",
        "amostra19.NU_NOTA_LC.median(),\n",
        "amostra19.NU_NOTA_MT.median(),\n",
        "amostra19.NU_NOTA_REDACAO.median()]\n",
        "\n",
        "ARRAY\n"
      ],
      "metadata": {
        "id": "C3TPoZ_JdwSU"
      },
      "execution_count": null,
      "outputs": []
    },
    {
      "cell_type": "markdown",
      "source": [
        "## CLUSTER 2020"
      ],
      "metadata": {
        "id": "WTWBzWw5ph5d"
      }
    },
    {
      "cell_type": "code",
      "source": [
        "from sklearn.cluster import KMeans\n",
        "\n",
        "n_clusters = 3\n",
        "\n",
        "means_cluster = KMeans(n_clusters=n_clusters, random_state=111)\n",
        "columns = [ \"NU_NOTA_MT\"]\n",
        "est = means_cluster.fit(amostra20[columns])\n",
        "clusters = est.labels_\n",
        "amostra20['cluster'] = clusters\n",
        "for c in range(n_clusters):\n",
        "    cluster_members=amostra20[amostra20['cluster'] == c][:]\n",
        "    print('Cluster{}(n={}):'.format(c, len(cluster_members)))\n",
        "    print('-'* 17)\n",
        "print(amostra20.groupby(['cluster']).mean())"
      ],
      "metadata": {
        "id": "Y8pUhWRuph5t"
      },
      "execution_count": null,
      "outputs": []
    },
    {
      "cell_type": "code",
      "source": [
        "\n",
        "amostra21  = amostra21.rename(columns={'NU_NOTA_MT': 'MATEMATICA'})\n",
        "\n",
        "\n",
        "for c in range(n_clusters):\n",
        "    cluster_members=amostra21[amostra21['cluster'] == c][:]\n",
        "    print('Cluster{}(n={}):'.format(c, len(cluster_members)))\n",
        "    print('-'* 17)\n",
        "cluster20 = amostra21.groupby(['cluster']).mean().plot.bar()\n",
        "cluster20.legend(bbox_to_anchor=(1.4, 0.9))"
      ],
      "metadata": {
        "id": "podbSMYOph5u"
      },
      "execution_count": null,
      "outputs": []
    },
    {
      "cell_type": "code",
      "source": [
        "# Criação de array para cálculo da média em cada ano por área\n",
        "ARRAY = [\n",
        "amostra19.NU_NOTA_CN.median(),\n",
        "amostra19.NU_NOTA_CH.median(),\n",
        "amostra19.NU_NOTA_LC.median(),\n",
        "amostra19.NU_NOTA_MT.median(),\n",
        "amostra19.NU_NOTA_REDACAO.median()]\n",
        "\n",
        "ARRAY\n"
      ],
      "metadata": {
        "id": "UzYfqNrUph5v"
      },
      "execution_count": null,
      "outputs": []
    },
    {
      "cell_type": "markdown",
      "source": [
        "## CLUSTER 2021"
      ],
      "metadata": {
        "id": "HD5ZaN_kpi9I"
      }
    },
    {
      "cell_type": "code",
      "source": [
        "from sklearn.cluster import KMeans\n",
        "\n",
        "n_clusters = 3\n",
        "\n",
        "means_cluster = KMeans(n_clusters=n_clusters, random_state=111)\n",
        "columns = [\"NU_NOTA_MT\"]\n",
        "est = means_cluster.fit(amostra21[columns])\n",
        "clusters = est.labels_\n",
        "amostra21['cluster'] = clusters\n",
        "for c in range(n_clusters):\n",
        "    cluster_members=amostra21[amostra21['cluster'] == c][:]\n",
        "    print('Cluster{}(n={}):'.format(c, len(cluster_members)))\n",
        "    print('-'* 17)\n",
        "print(amostra21.groupby(['cluster']).mean())"
      ],
      "metadata": {
        "id": "KKFv8PGmpi9I"
      },
      "execution_count": null,
      "outputs": []
    },
    {
      "cell_type": "code",
      "source": [
        "\n",
        "amostra21  = amostra21.rename(columns={'NU_NOTA_MT': 'MATEMATICA'})\n",
        "\n",
        "\n",
        "for c in range(n_clusters):\n",
        "    cluster_members=amostra21[amostra21['cluster'] == c][:]\n",
        "    print('Cluster{}(n={}):'.format(c, len(cluster_members)))\n",
        "    print('-'* 17)\n",
        "cluster21 = amostra21.groupby(['cluster']).mean().plot.bar()\n",
        "cluster21.legend(bbox_to_anchor=(1.4, 0.9))"
      ],
      "metadata": {
        "id": "SQgSL0ILpi9J"
      },
      "execution_count": null,
      "outputs": []
    },
    {
      "cell_type": "code",
      "source": [
        "# Criação de array para cálculo da média em cada ano por área\n",
        "ARRAY = [\n",
        "amostra19.NU_NOTA_CN.median(),\n",
        "amostra19.NU_NOTA_CH.median(),\n",
        "amostra19.NU_NOTA_LC.median(),\n",
        "amostra19.NU_NOTA_MT.median(),\n",
        "amostra19.NU_NOTA_REDACAO.median()]\n",
        "\n",
        "ARRAY\n"
      ],
      "metadata": {
        "id": "oKETmQoUpi9K"
      },
      "execution_count": null,
      "outputs": []
    },
    {
      "cell_type": "code",
      "source": [
        "# Criação de array para cálculo da média em cada ano por área\n",
        "ARRAY = [\n",
        "amostra19.NU_NOTA_CN.median(),\n",
        "amostra19.NU_NOTA_CH.median(),\n",
        "amostra19.NU_NOTA_LC.median(),\n",
        "amostra19.NU_NOTA_MT.median(),\n",
        "amostra19.NU_NOTA_REDACAO.median()]\n",
        "\n",
        "ARRAY\n"
      ],
      "metadata": {
        "id": "fD3R5uc9tG75"
      },
      "execution_count": null,
      "outputs": []
    },
    {
      "cell_type": "markdown",
      "source": [
        "# Histogramas"
      ],
      "metadata": {
        "id": "0gYdfl-a1_5g"
      }
    },
    {
      "cell_type": "code",
      "source": [
        "#Histograma para cada área de cada ano\n",
        "plt.hist(amostra16.MATEMATICA, 10, rwidth=0.9)\n",
        "plt.show()\n",
        "plt.hist(amostra17.MATEMATICA, 10, rwidth=0.9)\n",
        "plt.show()\n",
        "plt.hist(amostra18.MATEMATICA, 10, rwidth=0.9)\n",
        "plt.show()\n",
        "plt.hist(amostra19.MATEMATICA, 10, rwidth=0.9)\n",
        "plt.show()\n",
        "plt.hist(amostra20.NU_NOTA_MT, 10, rwidth=0.9)\n",
        "plt.show()\n",
        "plt.hist(amostra21.MATEMATICA, 10, rwidth=0.9)\n",
        "plt.show()\n",
        "\n"
      ],
      "metadata": {
        "id": "46qguBkt2HA0"
      },
      "execution_count": null,
      "outputs": []
    }
  ],
  "metadata": {
    "colab": {
      "provenance": [],
      "mount_file_id": "18B65AxQrgDLmoxIvf36ryPs5gdCVI6-h",
      "authorship_tag": "ABX9TyP0bN21HN2tiJ2sDdUvZXmt"
    },
    "kernelspec": {
      "display_name": "Python 3",
      "name": "python3"
    },
    "language_info": {
      "name": "python"
    }
  },
  "nbformat": 4,
  "nbformat_minor": 0
}
